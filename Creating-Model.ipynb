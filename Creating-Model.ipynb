{
 "cells": [
  {
   "cell_type": "code",
   "execution_count": 668,
   "metadata": {},
   "outputs": [],
   "source": [
    "import os\n",
    "import sys\n",
    "import pickle\n",
    "\n",
    "import numpy as np\n",
    "import pandas as pd\n",
    "from scipy.sparse import csr_matrix\n",
    "from scipy.sparse import hstack\n",
    "\n",
    "from sklearn.svm import SVC\n",
    "from sklearn.pipeline import Pipeline\n",
    "from sklearn.preprocessing import OneHotEncoder, LabelEncoder\n",
    "from sklearn.model_selection import cross_val_score\n",
    "from sklearn.base import BaseEstimator, TransformerMixin\n",
    "from sklearn.model_selection import train_test_split\n",
    "from sklearn.metrics import accuracy_score\n",
    "\n",
    "import nltk\n",
    "stemmer = nltk.PorterStemmer()\n",
    "from collections import Counter\n",
    "\n",
    "from bs4 import BeautifulSoup\n",
    "import re\n",
    "\n",
    "import warnings\n",
    "warnings.simplefilter(\"ignore\")"
   ]
  },
  {
   "cell_type": "code",
   "execution_count": null,
   "metadata": {},
   "outputs": [],
   "source": []
  },
  {
   "cell_type": "code",
   "execution_count": 463,
   "metadata": {},
   "outputs": [],
   "source": [
    "files = os.listdir('news/')\n",
    "article_types = ['Политика', 'Экономика', 'Происшествия', 'Общество', 'Культура', 'Спорт']\n",
    "data = pd.DataFrame(columns=['text', 'target'])\n",
    "articles_none_type = list()\n",
    "\n",
    "for file in files:\n",
    "    with open(os.path.join('news', file), 'r') as f:\n",
    "        raw = f.read()\n",
    "    soup = BeautifulSoup(raw)\n",
    "    if len(soup.find_all('item')) >= 3:\n",
    "        type = soup.find_all('item')[1].string\n",
    "        if type not in article_types:\n",
    "            articles_none_type.append(raw)\n",
    "        else:\n",
    "            text = soup.find('title').string + '\\n' + soup.find('text').string\n",
    "            data = data.append({'text': text, 'target': type}, ignore_index=True)\n",
    "    else:\n",
    "        articles_none_type.append(raw)"
   ]
  },
  {
   "cell_type": "code",
   "execution_count": 431,
   "metadata": {},
   "outputs": [
    {
     "name": "stdout",
     "output_type": "stream",
     "text": [
      "Датасет\n"
     ]
    },
    {
     "data": {
      "text/html": [
       "<div>\n",
       "<style scoped>\n",
       "    .dataframe tbody tr th:only-of-type {\n",
       "        vertical-align: middle;\n",
       "    }\n",
       "\n",
       "    .dataframe tbody tr th {\n",
       "        vertical-align: top;\n",
       "    }\n",
       "\n",
       "    .dataframe thead th {\n",
       "        text-align: right;\n",
       "    }\n",
       "</style>\n",
       "<table border=\"1\" class=\"dataframe\">\n",
       "  <thead>\n",
       "    <tr style=\"text-align: right;\">\n",
       "      <th></th>\n",
       "      <th>text</th>\n",
       "      <th>target</th>\n",
       "    </tr>\n",
       "  </thead>\n",
       "  <tbody>\n",
       "    <tr>\n",
       "      <th>0</th>\n",
       "      <td>Тувинец сумел отбиться от медведя и откусил ем...</td>\n",
       "      <td>Происшествия</td>\n",
       "    </tr>\n",
       "    <tr>\n",
       "      <th>1</th>\n",
       "      <td>Красноярский край станет пилотной площадкой по...</td>\n",
       "      <td>Экономика</td>\n",
       "    </tr>\n",
       "    <tr>\n",
       "      <th>2</th>\n",
       "      <td>В тёплые выходные в Красноярске устроят массов...</td>\n",
       "      <td>Происшествия</td>\n",
       "    </tr>\n",
       "    <tr>\n",
       "      <th>3</th>\n",
       "      <td>«Боремся с хулиганством и ссорами»: красноярск...</td>\n",
       "      <td>Общество</td>\n",
       "    </tr>\n",
       "    <tr>\n",
       "      <th>4</th>\n",
       "      <td>В Бородино стартовал юбилейный сезон трудовых ...</td>\n",
       "      <td>Общество</td>\n",
       "    </tr>\n",
       "    <tr>\n",
       "      <th>...</th>\n",
       "      <td>...</td>\n",
       "      <td>...</td>\n",
       "    </tr>\n",
       "    <tr>\n",
       "      <th>988</th>\n",
       "      <td>Суд поддержал запрет мэрии на строительство до...</td>\n",
       "      <td>Общество</td>\n",
       "    </tr>\n",
       "    <tr>\n",
       "      <th>989</th>\n",
       "      <td>Семья сотрудницы СУЭК стала лучшей в Красноярс...</td>\n",
       "      <td>Общество</td>\n",
       "    </tr>\n",
       "    <tr>\n",
       "      <th>990</th>\n",
       "      <td>В Красноярске на глазах у полицейских по пешех...</td>\n",
       "      <td>Происшествия</td>\n",
       "    </tr>\n",
       "    <tr>\n",
       "      <th>991</th>\n",
       "      <td>Россиянам могут запретить держать слишком мног...</td>\n",
       "      <td>Общество</td>\n",
       "    </tr>\n",
       "    <tr>\n",
       "      <th>992</th>\n",
       "      <td>Экспорт красноярских продуктов к 2024 году уве...</td>\n",
       "      <td>Экономика</td>\n",
       "    </tr>\n",
       "  </tbody>\n",
       "</table>\n",
       "<p>993 rows × 2 columns</p>\n",
       "</div>"
      ],
      "text/plain": [
       "                                                  text        target\n",
       "0    Тувинец сумел отбиться от медведя и откусил ем...  Происшествия\n",
       "1    Красноярский край станет пилотной площадкой по...     Экономика\n",
       "2    В тёплые выходные в Красноярске устроят массов...  Происшествия\n",
       "3    «Боремся с хулиганством и ссорами»: красноярск...      Общество\n",
       "4    В Бородино стартовал юбилейный сезон трудовых ...      Общество\n",
       "..                                                 ...           ...\n",
       "988  Суд поддержал запрет мэрии на строительство до...      Общество\n",
       "989  Семья сотрудницы СУЭК стала лучшей в Красноярс...      Общество\n",
       "990  В Красноярске на глазах у полицейских по пешех...  Происшествия\n",
       "991  Россиянам могут запретить держать слишком мног...      Общество\n",
       "992  Экспорт красноярских продуктов к 2024 году уве...     Экономика\n",
       "\n",
       "[993 rows x 2 columns]"
      ]
     },
     "execution_count": 431,
     "metadata": {},
     "output_type": "execute_result"
    }
   ],
   "source": [
    "print('Датасет')\n",
    "data"
   ]
  },
  {
   "cell_type": "code",
   "execution_count": null,
   "metadata": {},
   "outputs": [],
   "source": []
  },
  {
   "cell_type": "code",
   "execution_count": 116,
   "metadata": {},
   "outputs": [
    {
     "name": "stdout",
     "output_type": "stream",
     "text": [
      "Статья без определенной категории\n",
      "\n",
      "<?xml version='1.0' encoding='UTF-8'?>\n",
      "<doc>\n",
      "<source/><![CDATA[https://newslab.ru/news/902270]]>\n",
      "<category auto=\"true\" type=\"str\" verify=\"true\"><![CDATA[Новости]]></category>\n",
      "<title auto=\"true\" type=\"str\" verify=\"true\"><![CDATA[Горожан спросят о развитии красноярских островов]]></title>\n",
      "<keywords auto=\"true\" type=\"list\" verify=\"true\">\n",
      "<item type=\"str\"><![CDATA[Новости]]></item>\n",
      "</keywords>\n",
      "<text auto=\"true\" type=\"str\" verify=\"true\"><![CDATA[Красноярская администрация на официальном сайте запустила сбор предложений о дальнейшей судьбе трех островов — Отдыха, Молокова и Татышева.\n",
      "Мэрия планирует создать концепцию развития всех островов. Уже сейчас горожане любят отдыхать, кататься на велосипедах и устраивать пикники на Татышеве, островах Отдыха и Молокова. В мэрии хотят учесть мнение жителей города и предложить удобные и нужные проекты.\n",
      "В опросе на сайте мэрии красноярцы могут в свободной форме внести свои предложения по развитию территорий. Сбор мнений продлится месяц — с 3 июня по 3 июля. После обработки предложений красноярцев состоится голосование за лучшие из них. Всю информацию обещали проанализировать и учесть при составлении концепции островов.\n",
      "Вы можете помочь распространить эту информацию, нажав кнопку «Поделиться в соцсетях»:]]></text>\n",
      "</doc>\n",
      "\n"
     ]
    }
   ],
   "source": [
    "print('Статья без определенной категории', BeautifulSoup(articles_none_type[0]), sep='\\n\\n')"
   ]
  },
  {
   "cell_type": "code",
   "execution_count": null,
   "metadata": {},
   "outputs": [],
   "source": []
  },
  {
   "cell_type": "code",
   "execution_count": 562,
   "metadata": {},
   "outputs": [],
   "source": [
    "data = pd.DataFrame(columns=['text', 'target'])"
   ]
  },
  {
   "cell_type": "code",
   "execution_count": 572,
   "metadata": {},
   "outputs": [],
   "source": [
    "for file in os.listdir('Dataset/Sport'):\n",
    "    with open(os.path.join('Dataset/Sport', file), 'r') as f:\n",
    "        text = f.read()\n",
    "    data = data.append({'text': text, 'target': 'Спорт'}, ignore_index=True)"
   ]
  },
  {
   "cell_type": "code",
   "execution_count": 573,
   "metadata": {},
   "outputs": [
    {
     "data": {
      "text/html": [
       "<div>\n",
       "<style scoped>\n",
       "    .dataframe tbody tr th:only-of-type {\n",
       "        vertical-align: middle;\n",
       "    }\n",
       "\n",
       "    .dataframe tbody tr th {\n",
       "        vertical-align: top;\n",
       "    }\n",
       "\n",
       "    .dataframe thead th {\n",
       "        text-align: right;\n",
       "    }\n",
       "</style>\n",
       "<table border=\"1\" class=\"dataframe\">\n",
       "  <thead>\n",
       "    <tr style=\"text-align: right;\">\n",
       "      <th></th>\n",
       "      <th>text</th>\n",
       "      <th>target</th>\n",
       "    </tr>\n",
       "  </thead>\n",
       "  <tbody>\n",
       "    <tr>\n",
       "      <th>0</th>\n",
       "      <td>Глава Енисейска в Красноярском крае Игорь Анти...</td>\n",
       "      <td>Политика</td>\n",
       "    </tr>\n",
       "    <tr>\n",
       "      <th>1</th>\n",
       "      <td>Продолжение: Крайизбирком зарегистрировал трех...</td>\n",
       "      <td>Политика</td>\n",
       "    </tr>\n",
       "    <tr>\n",
       "      <th>2</th>\n",
       "      <td>Четырёх депутатов Законодательного Собрания Кр...</td>\n",
       "      <td>Политика</td>\n",
       "    </tr>\n",
       "    <tr>\n",
       "      <th>3</th>\n",
       "      <td>Депутаты Горсовета Красноярска потребовали уво...</td>\n",
       "      <td>Политика</td>\n",
       "    </tr>\n",
       "    <tr>\n",
       "      <th>4</th>\n",
       "      <td>Губернатор Красноярского края Александр Усс по...</td>\n",
       "      <td>Политика</td>\n",
       "    </tr>\n",
       "    <tr>\n",
       "      <th>...</th>\n",
       "      <td>...</td>\n",
       "      <td>...</td>\n",
       "    </tr>\n",
       "    <tr>\n",
       "      <th>1495</th>\n",
       "      <td>Российская лыжница Алиса Жамбалова завоевала з...</td>\n",
       "      <td>Спорт</td>\n",
       "    </tr>\n",
       "    <tr>\n",
       "      <th>1496</th>\n",
       "      <td>Уже сегодня на главных красноярских аренах отк...</td>\n",
       "      <td>Спорт</td>\n",
       "    </tr>\n",
       "    <tr>\n",
       "      <th>1497</th>\n",
       "      <td>Обновлено: Красноярский подросток стал лучшим ...</td>\n",
       "      <td>Спорт</td>\n",
       "    </tr>\n",
       "    <tr>\n",
       "      <th>1498</th>\n",
       "      <td>Федерация хоккея России (ФХР) и «Норникель» за...</td>\n",
       "      <td>Спорт</td>\n",
       "    </tr>\n",
       "    <tr>\n",
       "      <th>1499</th>\n",
       "      <td>Сегодня, 8 апреля, в кластере «Сопка» состояли...</td>\n",
       "      <td>Спорт</td>\n",
       "    </tr>\n",
       "  </tbody>\n",
       "</table>\n",
       "<p>1500 rows × 2 columns</p>\n",
       "</div>"
      ],
      "text/plain": [
       "                                                   text    target\n",
       "0     Глава Енисейска в Красноярском крае Игорь Анти...  Политика\n",
       "1     Продолжение: Крайизбирком зарегистрировал трех...  Политика\n",
       "2     Четырёх депутатов Законодательного Собрания Кр...  Политика\n",
       "3     Депутаты Горсовета Красноярска потребовали уво...  Политика\n",
       "4     Губернатор Красноярского края Александр Усс по...  Политика\n",
       "...                                                 ...       ...\n",
       "1495  Российская лыжница Алиса Жамбалова завоевала з...     Спорт\n",
       "1496  Уже сегодня на главных красноярских аренах отк...     Спорт\n",
       "1497  Обновлено: Красноярский подросток стал лучшим ...     Спорт\n",
       "1498  Федерация хоккея России (ФХР) и «Норникель» за...     Спорт\n",
       "1499  Сегодня, 8 апреля, в кластере «Сопка» состояли...     Спорт\n",
       "\n",
       "[1500 rows x 2 columns]"
      ]
     },
     "execution_count": 573,
     "metadata": {},
     "output_type": "execute_result"
    }
   ],
   "source": [
    "data"
   ]
  },
  {
   "cell_type": "code",
   "execution_count": 574,
   "metadata": {},
   "outputs": [],
   "source": [
    "data = data.sample(frac=1).reset_index(drop=True)"
   ]
  },
  {
   "cell_type": "code",
   "execution_count": null,
   "metadata": {},
   "outputs": [],
   "source": []
  },
  {
   "cell_type": "code",
   "execution_count": 575,
   "metadata": {},
   "outputs": [],
   "source": [
    "class MessageToWordCounterTransform(BaseEstimator, TransformerMixin):\n",
    "    \n",
    "    def fit(self, X, y=None):\n",
    "        return self\n",
    "    \n",
    "    def transform(self, X, y=None):\n",
    "        X_transformed = []\n",
    "        for text in X:\n",
    "            text = text.lower()\n",
    "            text = re.sub(r'\\d+(?:\\.\\d*(?:[eE]\\d+))?', 'NUMBER', text)\n",
    "            text = re.sub(r'\\W+', ' ', text, flags=re.M)\n",
    "            word_counts = Counter([word[:-2] for word in text.split() if len(word) > 3 or word == 'NUMBER'])\n",
    "            X_transformed.append(word_counts)\n",
    "        return np.array(X_transformed)"
   ]
  },
  {
   "cell_type": "code",
   "execution_count": 649,
   "metadata": {},
   "outputs": [],
   "source": [
    "class WordCounterToVectorTransformer(BaseEstimator, TransformerMixin):\n",
    "    def __init__(self, vocabulary_size=1000, vocabulary_=None):\n",
    "        self.vocabulary_size = vocabulary_size\n",
    "        if vocabulary_ is not None:\n",
    "            with open(vocabulary_, 'rb') as f:\n",
    "                self.vocabulary_ = pickle.load(f)\n",
    "    def fit(self, X, y=None):\n",
    "        total_count = Counter()\n",
    "        for word_count in X:\n",
    "            for word, count in word_count.items():\n",
    "                total_count[word] += min(count, 10)\n",
    "        most_common = total_count.most_common()[:self.vocabulary_size]\n",
    "        self.most_common_ = most_common\n",
    "        self.vocabulary_ = {word: index + 1 for index, (word, count) in enumerate(most_common)}\n",
    "        return self\n",
    "    def transform(self, X, y=None):\n",
    "        rows = []\n",
    "        cols = []\n",
    "        data = []\n",
    "        for row, word_count in enumerate(X):\n",
    "            for word, count in word_count.items():\n",
    "                rows.append(row)\n",
    "                cols.append(self.vocabulary_.get(word, 0))\n",
    "                data.append(count)\n",
    "        return csr_matrix((data, (rows, cols)), shape=(len(X), self.vocabulary_size + 1))"
   ]
  },
  {
   "cell_type": "code",
   "execution_count": 658,
   "metadata": {},
   "outputs": [],
   "source": [
    "pipeline = Pipeline([\n",
    "    (\"email_to_wordcount\", MessageToWordCounterTransform()),\n",
    "    (\"wordcount_to_vector\", WordCounterToVectorTransformer(vocabulary_='vocabulary.pkl')),\n",
    "])"
   ]
  },
  {
   "cell_type": "code",
   "execution_count": null,
   "metadata": {},
   "outputs": [],
   "source": []
  },
  {
   "cell_type": "code",
   "execution_count": 738,
   "metadata": {},
   "outputs": [],
   "source": [
    "X, y = data['text'], data['target']\n",
    "X_train, X_test, y_train, y_test = train_test_split(X, y, test_size=0.33)\n",
    "\n",
    "X_train = pipeline.transform(X_train).toarray()\n",
    "X_test = pipeline.transform(X_test).toarray()\n",
    "\n",
    "encoder = LabelEncoder()\n",
    "y_train = encoder.fit_transform(y_train.values).reshape(-1, 1)\n",
    "y_test = encoder.transform(y_test.values).reshape(-1, 1)\n",
    "\n",
    "X = pipeline.transform(X).toarray()\n",
    "y = encoder.transform(y)"
   ]
  },
  {
   "cell_type": "code",
   "execution_count": 468,
   "metadata": {},
   "outputs": [],
   "source": []
  },
  {
   "cell_type": "code",
   "execution_count": 739,
   "metadata": {},
   "outputs": [],
   "source": [
    "model = SVC(probability=True)"
   ]
  },
  {
   "cell_type": "code",
   "execution_count": 740,
   "metadata": {},
   "outputs": [
    {
     "data": {
      "text/plain": [
       "SVC(C=1.0, cache_size=200, class_weight=None, coef0=0.0,\n",
       "    decision_function_shape='ovr', degree=3, gamma='auto_deprecated',\n",
       "    kernel='rbf', max_iter=-1, probability=True, random_state=None,\n",
       "    shrinking=True, tol=0.001, verbose=False)"
      ]
     },
     "execution_count": 740,
     "metadata": {},
     "output_type": "execute_result"
    }
   ],
   "source": [
    "model.fit(X_train, y_train)"
   ]
  },
  {
   "cell_type": "code",
   "execution_count": 741,
   "metadata": {},
   "outputs": [
    {
     "data": {
      "text/plain": [
       "0.6585858585858586"
      ]
     },
     "execution_count": 741,
     "metadata": {},
     "output_type": "execute_result"
    }
   ],
   "source": [
    "accuracy_score(model.predict(X_test), y_test)"
   ]
  },
  {
   "cell_type": "code",
   "execution_count": null,
   "metadata": {},
   "outputs": [],
   "source": []
  },
  {
   "cell_type": "code",
   "execution_count": 750,
   "metadata": {},
   "outputs": [
    {
     "data": {
      "text/plain": [
       "array(['Культура', 'Общество', 'Политика', 'Происшествия', 'Спорт',\n",
       "       'Экономика'], dtype=object)"
      ]
     },
     "execution_count": 750,
     "metadata": {},
     "output_type": "execute_result"
    }
   ],
   "source": [
    "encoder.classes_"
   ]
  },
  {
   "cell_type": "code",
   "execution_count": null,
   "metadata": {},
   "outputs": [],
   "source": []
  },
  {
   "cell_type": "code",
   "execution_count": 696,
   "metadata": {},
   "outputs": [],
   "source": [
    "y_pred = model.predict_proba([X_test[1]])"
   ]
  },
  {
   "cell_type": "code",
   "execution_count": 697,
   "metadata": {},
   "outputs": [
    {
     "name": "stdout",
     "output_type": "stream",
     "text": [
      "Политика : 86.17%\n",
      "Экономика : 0.99%\n",
      "Происшествия : 1.87%\n",
      "Общество : 0.73%\n",
      "Культура : 7.23%\n",
      "Спорт : 3.01%\n"
     ]
    }
   ],
   "source": [
    "for pred, type in zip(y_pred[0], article_types):\n",
    "    print('{} : {}%'.format(type, round(pred * 100, 2)))"
   ]
  },
  {
   "cell_type": "code",
   "execution_count": null,
   "metadata": {},
   "outputs": [],
   "source": []
  },
  {
   "cell_type": "code",
   "execution_count": 703,
   "metadata": {},
   "outputs": [
    {
     "data": {
      "text/plain": [
       "'Красноярские депутаты утвердили увеличение бюджета Фонда обязательного медицинского страхования'"
      ]
     },
     "execution_count": 703,
     "metadata": {},
     "output_type": "execute_result"
    }
   ],
   "source": [
    "data.iloc[0]['text'].split('.')[0]"
   ]
  },
  {
   "cell_type": "code",
   "execution_count": null,
   "metadata": {},
   "outputs": [],
   "source": []
  },
  {
   "cell_type": "code",
   "execution_count": null,
   "metadata": {},
   "outputs": [],
   "source": []
  },
  {
   "cell_type": "code",
   "execution_count": 705,
   "metadata": {},
   "outputs": [
    {
     "data": {
      "text/plain": [
       "'Красноярские депутаты утвердили увеличение бюджета Фонда обязательного медицинского страхования. Решение об этом было принято 20 декабря на сессии Законодательного Собрания Красноярского края.\\nДоходная и расходная часть бюджета территориального фонда обязательного медицинского страхования на 2012 и плановый период 2013-2014 годов увеличены. Сделано это в связи с увеличением трансфертов из бюджета федерального фонда. Так, доходы красноярского фонда увеличиваются на 1 млрд 235,9 млн рублей, расходы возрастают на 1 млрд 185,9 млн рублей, источники внутреннего финансирования дефицита бюджета фонда уменьшаются на 50 млн рублей.\\nПолученные дополнительно средства будут потрачены на следующие направления: модернизация здравоохранения Красноярского края в части укрепления материально-технической базы медицинских учреждений, выполнение переданных органам государственной власти края полномочий РФ в сфере обязательного медицинского страхования, реализация национального проекта «Здоровье» в части проведения диспансеризации и осуществление единовременных компенсационных выплат медицинским работникам.\\nЗа год на обязательное медстрахование в Красноярском крае планируют потратить 32,5 млрд рублей'"
      ]
     },
     "execution_count": 705,
     "metadata": {},
     "output_type": "execute_result"
    }
   ],
   "source": [
    "data.iloc[0].text"
   ]
  },
  {
   "cell_type": "code",
   "execution_count": null,
   "metadata": {},
   "outputs": [],
   "source": []
  },
  {
   "cell_type": "code",
   "execution_count": null,
   "metadata": {},
   "outputs": [],
   "source": []
  },
  {
   "cell_type": "code",
   "execution_count": 727,
   "metadata": {},
   "outputs": [],
   "source": [
    "text = 'Красноярские депутаты утвердили увеличение бюджета Фонда обязательного медицинского страхования. Решение об этом было принято 20 декабря на сессии Законодательного Собрания Красноярского края.\\nДоходная и расходная часть бюджета территориального фонда обязательного медицинского страхования на 2012 и плановый период 2013-2014 годов увеличены. Сделано это в связи с увеличением трансфертов из бюджета федерального фонда. Так, доходы красноярского фонда увеличиваются на 1 млрд 235,9 млн рублей, расходы возрастают на 1 млрд 185,9 млн рублей, источники внутреннего финансирования дефицита бюджета фонда уменьшаются на 50 млн рублей.\\nПолученные дополнительно средства будут потрачены на следующие направления: модернизация здравоохранения Красноярского края в части укрепления материально-технической базы медицинских учреждений, выполнение переданных органам государственной власти края полномочий РФ в сфере обязательного медицинского страхования, реализация национального проекта «Здоровье» в части проведения диспансеризации и осуществление единовременных компенсационных выплат медицинским работникам.\\nЗа год на обязательное медстрахование в Красноярском крае планируют потратить 32,5 млрд рублей'"
   ]
  },
  {
   "cell_type": "code",
   "execution_count": 728,
   "metadata": {},
   "outputs": [],
   "source": [
    "vector = pipeline.transform([text])"
   ]
  },
  {
   "cell_type": "code",
   "execution_count": 737,
   "metadata": {},
   "outputs": [
    {
     "data": {
      "text/plain": [
       "[0.027195104392764086,\n",
       " 0.3115741411227261,\n",
       " 0.40705833916508494,\n",
       " 0.03615629052747016,\n",
       " 0.0544613579727595,\n",
       " 0.16355476681919556]"
      ]
     },
     "execution_count": 737,
     "metadata": {},
     "output_type": "execute_result"
    }
   ],
   "source": [
    "model.predict_proba(vector.toarray())[0].tolist()"
   ]
  },
  {
   "cell_type": "code",
   "execution_count": 730,
   "metadata": {},
   "outputs": [
    {
     "data": {
      "text/plain": [
       "(1, 1001)"
      ]
     },
     "execution_count": 730,
     "metadata": {},
     "output_type": "execute_result"
    }
   ],
   "source": [
    "vector.toarray().shape"
   ]
  },
  {
   "cell_type": "code",
   "execution_count": null,
   "metadata": {},
   "outputs": [],
   "source": []
  },
  {
   "cell_type": "code",
   "execution_count": 723,
   "metadata": {},
   "outputs": [],
   "source": [
    "with open('pipeline.pickle', 'wb') as handle:\n",
    "    pickle.dump(pipeline, handle, protocol=pickle.HIGHEST_PROTOCOL)"
   ]
  },
  {
   "cell_type": "code",
   "execution_count": 726,
   "metadata": {},
   "outputs": [],
   "source": [
    "with open('pipeline.pickle', 'rb') as handle:\n",
    "    pipeline = pickle.load(handle)"
   ]
  },
  {
   "cell_type": "code",
   "execution_count": null,
   "metadata": {},
   "outputs": [],
   "source": []
  }
 ],
 "metadata": {
  "kernelspec": {
   "display_name": "Python 3",
   "language": "python",
   "name": "python3"
  },
  "language_info": {
   "codemirror_mode": {
    "name": "ipython",
    "version": 3
   },
   "file_extension": ".py",
   "mimetype": "text/x-python",
   "name": "python",
   "nbconvert_exporter": "python",
   "pygments_lexer": "ipython3",
   "version": "3.7.5"
  }
 },
 "nbformat": 4,
 "nbformat_minor": 4
}
